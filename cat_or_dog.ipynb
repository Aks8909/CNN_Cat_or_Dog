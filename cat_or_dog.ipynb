{
 "cells": [
  {
   "cell_type": "code",
   "execution_count": 3,
   "id": "82ae13e3",
   "metadata": {},
   "outputs": [],
   "source": [
    "import numpy as np\n",
    "import tensorflow as tf\n",
    "from keras.preprocessing.image import ImageDataGenerator"
   ]
  },
  {
   "cell_type": "code",
   "execution_count": 5,
   "id": "8501bb77",
   "metadata": {},
   "outputs": [],
   "source": [
    "train_datagen=ImageDataGenerator(\n",
    "        rescale=1./255,\n",
    "        shear_range=0.2,\n",
    "        zoom_range=0.2,\n",
    "        horizontal_flip=True)"
   ]
  },
  {
   "cell_type": "code",
   "execution_count": 16,
   "id": "c90a5062",
   "metadata": {},
   "outputs": [
    {
     "name": "stdout",
     "output_type": "stream",
     "text": [
      "Found 8000 images belonging to 2 classes.\n"
     ]
    }
   ],
   "source": [
    "training_set=train_datagen.flow_from_directory(\n",
    "        \"C:/Users/win10/OneDrive/Desktop/Projects/CNN/dataset/training_set\",\n",
    "        target_size=(64,64),\n",
    "        batch_size=32,\n",
    "        class_mode='binary')"
   ]
  },
  {
   "cell_type": "code",
   "execution_count": 17,
   "id": "d0191659",
   "metadata": {},
   "outputs": [],
   "source": [
    "test_datagen=ImageDataGenerator(rescale=1./255)"
   ]
  },
  {
   "cell_type": "code",
   "execution_count": 18,
   "id": "f198110b",
   "metadata": {},
   "outputs": [
    {
     "name": "stdout",
     "output_type": "stream",
     "text": [
      "Found 2000 images belonging to 2 classes.\n"
     ]
    }
   ],
   "source": [
    "test_set=test_datagen.flow_from_directory(\n",
    "        \"C:/Users/win10/OneDrive/Desktop/Projects/CNN/dataset/test_set\",\n",
    "        target_size=(64,64),\n",
    "        batch_size=32,\n",
    "        class_mode='binary')"
   ]
  },
  {
   "cell_type": "code",
   "execution_count": 20,
   "id": "d7e65c24",
   "metadata": {},
   "outputs": [],
   "source": [
    "cnn=tf.keras.models.Sequential()"
   ]
  },
  {
   "cell_type": "code",
   "execution_count": 22,
   "id": "2c267fa6",
   "metadata": {},
   "outputs": [],
   "source": [
    "cnn.add(tf.keras.layers.Conv2D(filters=32,kernel_size=3,activation='relu',input_shape=[64,64,3]))"
   ]
  },
  {
   "cell_type": "code",
   "execution_count": 24,
   "id": "ac56808c",
   "metadata": {},
   "outputs": [],
   "source": [
    "cnn.add(tf.keras.layers.MaxPool2D(pool_size=2, strides=2))"
   ]
  },
  {
   "cell_type": "code",
   "execution_count": 26,
   "id": "183e225f",
   "metadata": {},
   "outputs": [],
   "source": [
    "cnn.add(tf.keras.layers.Conv2D(filters=32,kernel_size=3,activation='relu'))"
   ]
  },
  {
   "cell_type": "code",
   "execution_count": 27,
   "id": "e3bc88bc",
   "metadata": {},
   "outputs": [],
   "source": [
    "cnn.add(tf.keras.layers.MaxPool2D(pool_size=2, strides=2))"
   ]
  },
  {
   "cell_type": "code",
   "execution_count": 28,
   "id": "75df6c0e",
   "metadata": {},
   "outputs": [],
   "source": [
    "cnn.add(tf.keras.layers.Flatten())"
   ]
  },
  {
   "cell_type": "code",
   "execution_count": 29,
   "id": "dfb65eee",
   "metadata": {},
   "outputs": [],
   "source": [
    "cnn.add(tf.keras.layers.Dense(units=128, activation='relu'))"
   ]
  },
  {
   "cell_type": "code",
   "execution_count": 30,
   "id": "45fb0f94",
   "metadata": {},
   "outputs": [],
   "source": [
    "cnn.add(tf.keras.layers.Dense(units=1, activation='sigmoid'))"
   ]
  },
  {
   "cell_type": "code",
   "execution_count": 32,
   "id": "7fb5744e",
   "metadata": {},
   "outputs": [],
   "source": [
    "cnn.compile(optimizer='adam', loss='binary_crossentropy', metrics=['accuracy'])"
   ]
  },
  {
   "cell_type": "code",
   "execution_count": 33,
   "id": "7a629a09",
   "metadata": {},
   "outputs": [
    {
     "name": "stdout",
     "output_type": "stream",
     "text": [
      "Epoch 1/25\n",
      "WARNING:tensorflow:From C:\\Users\\win10\\anaconda3\\lib\\site-packages\\keras\\src\\utils\\tf_utils.py:492: The name tf.ragged.RaggedTensorValue is deprecated. Please use tf.compat.v1.ragged.RaggedTensorValue instead.\n",
      "\n",
      "WARNING:tensorflow:From C:\\Users\\win10\\anaconda3\\lib\\site-packages\\keras\\src\\engine\\base_layer_utils.py:384: The name tf.executing_eagerly_outside_functions is deprecated. Please use tf.compat.v1.executing_eagerly_outside_functions instead.\n",
      "\n",
      "250/250 [==============================] - 380s 2s/step - loss: 0.6828 - accuracy: 0.5441 - val_loss: 0.6427 - val_accuracy: 0.6240\n",
      "Epoch 2/25\n",
      "250/250 [==============================] - 88s 351ms/step - loss: 0.6451 - accuracy: 0.6288 - val_loss: 0.6342 - val_accuracy: 0.6320\n",
      "Epoch 3/25\n",
      "250/250 [==============================] - 79s 314ms/step - loss: 0.5879 - accuracy: 0.6898 - val_loss: 0.5613 - val_accuracy: 0.6965\n",
      "Epoch 4/25\n",
      "250/250 [==============================] - 82s 329ms/step - loss: 0.5478 - accuracy: 0.7224 - val_loss: 0.5262 - val_accuracy: 0.7380\n",
      "Epoch 5/25\n",
      "250/250 [==============================] - 86s 344ms/step - loss: 0.5316 - accuracy: 0.7350 - val_loss: 0.4940 - val_accuracy: 0.7595\n",
      "Epoch 6/25\n",
      "250/250 [==============================] - 113s 454ms/step - loss: 0.5103 - accuracy: 0.7465 - val_loss: 0.4800 - val_accuracy: 0.7615\n",
      "Epoch 7/25\n",
      "250/250 [==============================] - 86s 345ms/step - loss: 0.4958 - accuracy: 0.7630 - val_loss: 0.4607 - val_accuracy: 0.7910\n",
      "Epoch 8/25\n",
      "250/250 [==============================] - 93s 373ms/step - loss: 0.4742 - accuracy: 0.7732 - val_loss: 0.4750 - val_accuracy: 0.7800\n",
      "Epoch 9/25\n",
      "250/250 [==============================] - 82s 330ms/step - loss: 0.4616 - accuracy: 0.7795 - val_loss: 0.4450 - val_accuracy: 0.7960\n",
      "Epoch 10/25\n",
      "250/250 [==============================] - 80s 321ms/step - loss: 0.4485 - accuracy: 0.7880 - val_loss: 0.4436 - val_accuracy: 0.7885\n",
      "Epoch 11/25\n",
      "250/250 [==============================] - 98s 392ms/step - loss: 0.4355 - accuracy: 0.7941 - val_loss: 0.4336 - val_accuracy: 0.7945\n",
      "Epoch 12/25\n",
      "250/250 [==============================] - 92s 369ms/step - loss: 0.4315 - accuracy: 0.8011 - val_loss: 0.5006 - val_accuracy: 0.7740\n",
      "Epoch 13/25\n",
      "250/250 [==============================] - 78s 311ms/step - loss: 0.4299 - accuracy: 0.8050 - val_loss: 0.4175 - val_accuracy: 0.8120\n",
      "Epoch 14/25\n",
      "250/250 [==============================] - 87s 349ms/step - loss: 0.4192 - accuracy: 0.8092 - val_loss: 0.4217 - val_accuracy: 0.8045\n",
      "Epoch 15/25\n",
      "250/250 [==============================] - 90s 359ms/step - loss: 0.4012 - accuracy: 0.8146 - val_loss: 0.4427 - val_accuracy: 0.7995\n",
      "Epoch 16/25\n",
      "250/250 [==============================] - 76s 304ms/step - loss: 0.3962 - accuracy: 0.8201 - val_loss: 0.4291 - val_accuracy: 0.7960\n",
      "Epoch 17/25\n",
      "250/250 [==============================] - 71s 282ms/step - loss: 0.3833 - accuracy: 0.8213 - val_loss: 0.4107 - val_accuracy: 0.8140\n",
      "Epoch 18/25\n",
      "250/250 [==============================] - 71s 283ms/step - loss: 0.3778 - accuracy: 0.8331 - val_loss: 0.4238 - val_accuracy: 0.8030\n",
      "Epoch 19/25\n",
      "250/250 [==============================] - 69s 275ms/step - loss: 0.3702 - accuracy: 0.8296 - val_loss: 0.3967 - val_accuracy: 0.8250\n",
      "Epoch 20/25\n",
      "250/250 [==============================] - 69s 274ms/step - loss: 0.3674 - accuracy: 0.8314 - val_loss: 0.3831 - val_accuracy: 0.8220\n",
      "Epoch 21/25\n",
      "250/250 [==============================] - 69s 275ms/step - loss: 0.3486 - accuracy: 0.8447 - val_loss: 0.4480 - val_accuracy: 0.8040\n",
      "Epoch 22/25\n",
      "250/250 [==============================] - 70s 279ms/step - loss: 0.3417 - accuracy: 0.8494 - val_loss: 0.4066 - val_accuracy: 0.8135\n",
      "Epoch 23/25\n",
      "250/250 [==============================] - 70s 279ms/step - loss: 0.3259 - accuracy: 0.8549 - val_loss: 0.4104 - val_accuracy: 0.8240\n",
      "Epoch 24/25\n",
      "250/250 [==============================] - 69s 277ms/step - loss: 0.3303 - accuracy: 0.8504 - val_loss: 0.3915 - val_accuracy: 0.8305\n",
      "Epoch 25/25\n",
      "250/250 [==============================] - 69s 277ms/step - loss: 0.3226 - accuracy: 0.8570 - val_loss: 0.3903 - val_accuracy: 0.8350\n"
     ]
    },
    {
     "data": {
      "text/plain": [
       "<keras.src.callbacks.History at 0x1f35bb5cd60>"
      ]
     },
     "execution_count": 33,
     "metadata": {},
     "output_type": "execute_result"
    }
   ],
   "source": [
    "cnn.fit(x=training_set, validation_data=test_set, epochs=25)"
   ]
  },
  {
   "cell_type": "code",
   "execution_count": 99,
   "id": "a3047b73",
   "metadata": {},
   "outputs": [],
   "source": [
    "from keras.preprocessing import image\n"
   ]
  },
  {
   "cell_type": "code",
   "execution_count": 112,
   "id": "ac15e0aa",
   "metadata": {},
   "outputs": [],
   "source": [
    "test_image=image.load_img('C:/Users/win10/OneDrive/Desktop/Projects/CNN/dataset/test_set/cats/cat.4124.jpg', target_size=(64,64))\n"
   ]
  },
  {
   "cell_type": "code",
   "execution_count": 113,
   "id": "260b11cd",
   "metadata": {},
   "outputs": [],
   "source": [
    "test_image=image.img_to_array(test_image)\n"
   ]
  },
  {
   "cell_type": "code",
   "execution_count": 114,
   "id": "dd810f95",
   "metadata": {},
   "outputs": [],
   "source": [
    "test_image=np.expand_dims(test_image, axis=0)"
   ]
  },
  {
   "cell_type": "code",
   "execution_count": 115,
   "id": "f48c2665",
   "metadata": {},
   "outputs": [
    {
     "name": "stdout",
     "output_type": "stream",
     "text": [
      "1/1 [==============================] - 0s 64ms/step\n"
     ]
    }
   ],
   "source": [
    "result=cnn.predict(test_image)"
   ]
  },
  {
   "cell_type": "code",
   "execution_count": 116,
   "id": "efc5a63d",
   "metadata": {},
   "outputs": [
    {
     "data": {
      "text/plain": [
       "{'cats': 0, 'dogs': 1}"
      ]
     },
     "execution_count": 116,
     "metadata": {},
     "output_type": "execute_result"
    }
   ],
   "source": [
    "training_set.class_indices"
   ]
  },
  {
   "cell_type": "code",
   "execution_count": 117,
   "id": "6bbbc24e",
   "metadata": {},
   "outputs": [
    {
     "name": "stdout",
     "output_type": "stream",
     "text": [
      "cat\n"
     ]
    }
   ],
   "source": [
    "if result[0][0]==1:\n",
    "    prediction='dog'\n",
    "else:\n",
    "    prediction='cat'\n",
    "print(prediction)"
   ]
  },
  {
   "cell_type": "code",
   "execution_count": null,
   "id": "41045dc8",
   "metadata": {},
   "outputs": [],
   "source": []
  }
 ],
 "metadata": {
  "kernelspec": {
   "display_name": "Python 3 (ipykernel)",
   "language": "python",
   "name": "python3"
  },
  "language_info": {
   "codemirror_mode": {
    "name": "ipython",
    "version": 3
   },
   "file_extension": ".py",
   "mimetype": "text/x-python",
   "name": "python",
   "nbconvert_exporter": "python",
   "pygments_lexer": "ipython3",
   "version": "3.9.7"
  }
 },
 "nbformat": 4,
 "nbformat_minor": 5
}
